{
 "cells": [
  {
   "cell_type": "code",
   "execution_count": 61,
   "metadata": {
    "ExecuteTime": {
     "end_time": "2019-04-15T18:40:53.038609Z",
     "start_time": "2019-04-15T18:40:53.007699Z"
    }
   },
   "outputs": [
    {
     "name": "stdout",
     "output_type": "stream",
     "text": [
      "cuda:0\n"
     ]
    }
   ],
   "source": [
    "%matplotlib inline\n",
    "import numpy as np\n",
    "import pandas as pd\n",
    "\n",
    "import torch\n",
    "import torch.optim as optim\n",
    "import torch.nn as nn\n",
    "import torch.nn.functional as F\n",
    "import torchvision\n",
    "from torchvision import transforms, models\n",
    "\n",
    "from NetworkAPI import NetworkAPI\n",
    "\n",
    "import matplotlib.pyplot as plt\n",
    "\n",
    "np.random.seed=0\n",
    "device = torch.device(\"cuda:0\" if torch.cuda.is_available() else \"cpu\")\n",
    "print(device)"
   ]
  },
  {
   "cell_type": "code",
   "execution_count": 62,
   "metadata": {
    "ExecuteTime": {
     "end_time": "2019-04-15T18:41:00.743556Z",
     "start_time": "2019-04-15T18:40:59.259527Z"
    }
   },
   "outputs": [],
   "source": [
    "kaggle_data = torchvision.datasets.ImageFolder(root='./data/data_test/', transform=transforms.Compose([\n",
    "    transforms.Resize((227,227)),    \n",
    "    transforms.ToTensor(),\n",
    "        transforms.Normalize([0.5, 0.5, 0.5], [0.5, 0.5, 0.5]) \n",
    "        \n",
    "    ]), )\n",
    "\n",
    "data_loader = torch.utils.data.DataLoader(kaggle_data, \n",
    "                                              batch_size=32, \n",
    "                                              shuffle=False, \n",
    "                                              num_workers=4)"
   ]
  },
  {
   "cell_type": "code",
   "execution_count": 85,
   "metadata": {
    "ExecuteTime": {
     "end_time": "2019-04-15T19:01:25.261748Z",
     "start_time": "2019-04-15T19:01:24.586565Z"
    }
   },
   "outputs": [],
   "source": [
    "weights = torch.load(\"alexnet.pth.tar\")"
   ]
  },
  {
   "cell_type": "code",
   "execution_count": 87,
   "metadata": {
    "ExecuteTime": {
     "end_time": "2019-04-15T19:01:31.135356Z",
     "start_time": "2019-04-15T19:01:31.131367Z"
    }
   },
   "outputs": [
    {
     "data": {
      "text/plain": [
       "dict_keys(['net', 'acc', 'epoch', 'train_losses', 'train_accuracies', 'val_losses', 'val_accuracies'])"
      ]
     },
     "execution_count": 87,
     "metadata": {},
     "output_type": "execute_result"
    }
   ],
   "source": [
    "weights.keys()"
   ]
  },
  {
   "cell_type": "code",
   "execution_count": 64,
   "metadata": {
    "ExecuteTime": {
     "end_time": "2019-04-15T18:41:02.265029Z",
     "start_time": "2019-04-15T18:41:01.880086Z"
    }
   },
   "outputs": [],
   "source": [
    "alexnet = torchvision.models.alexnet(pretrained=False)"
   ]
  },
  {
   "cell_type": "code",
   "execution_count": 65,
   "metadata": {
    "ExecuteTime": {
     "end_time": "2019-04-15T18:41:02.758749Z",
     "start_time": "2019-04-15T18:41:02.268018Z"
    }
   },
   "outputs": [],
   "source": [
    "alexnet = models.alexnet(pretrained=False)\n",
    "num_ftrs = alexnet.classifier[-1].in_features\n",
    "alexnet.classifier[-1] = nn.Linear(num_ftrs, 10)\n",
    "alexnet = alexnet.to(device)"
   ]
  },
  {
   "cell_type": "code",
   "execution_count": 66,
   "metadata": {
    "ExecuteTime": {
     "end_time": "2019-04-15T18:41:03.757605Z",
     "start_time": "2019-04-15T18:41:03.750624Z"
    }
   },
   "outputs": [],
   "source": [
    "alexnet.load_state_dict(weights)"
   ]
  },
  {
   "cell_type": "code",
   "execution_count": 67,
   "metadata": {
    "ExecuteTime": {
     "end_time": "2019-04-15T18:41:04.164754Z",
     "start_time": "2019-04-15T18:41:04.160785Z"
    }
   },
   "outputs": [],
   "source": [
    "alexnet=alexnet.to(device)"
   ]
  },
  {
   "cell_type": "code",
   "execution_count": 68,
   "metadata": {
    "ExecuteTime": {
     "end_time": "2019-04-15T18:41:04.939711Z",
     "start_time": "2019-04-15T18:41:04.936717Z"
    }
   },
   "outputs": [],
   "source": [
    "predictions = np.array([])"
   ]
  },
  {
   "cell_type": "code",
   "execution_count": 69,
   "metadata": {
    "ExecuteTime": {
     "end_time": "2019-04-15T18:41:06.797664Z",
     "start_time": "2019-04-15T18:41:06.793673Z"
    }
   },
   "outputs": [],
   "source": [
    "classes = ('airplane', 'automobile', 'bird', 'cat',\n",
    "           'deer', 'dog', 'frog', 'horse', 'ship', 'truck')"
   ]
  },
  {
   "cell_type": "code",
   "execution_count": 71,
   "metadata": {
    "ExecuteTime": {
     "end_time": "2019-04-15T18:41:41.589664Z",
     "start_time": "2019-04-15T18:41:41.585694Z"
    }
   },
   "outputs": [],
   "source": [
    "i=0"
   ]
  },
  {
   "cell_type": "code",
   "execution_count": 72,
   "metadata": {
    "ExecuteTime": {
     "end_time": "2019-04-15T18:51:36.569060Z",
     "start_time": "2019-04-15T18:41:45.577026Z"
    },
    "collapsed": true
   },
   "outputs": [
    {
     "name": "stdout",
     "output_type": "stream",
     "text": [
      "2400\n",
      "4800\n",
      "7200\n",
      "9600\n",
      "12000\n",
      "14400\n",
      "16800\n",
      "19200\n",
      "21600\n",
      "24000\n",
      "26400\n",
      "28800\n",
      "31200\n",
      "33600\n",
      "36000\n",
      "38400\n",
      "40800\n",
      "43200\n",
      "45600\n",
      "48000\n",
      "50400\n",
      "52800\n",
      "55200\n",
      "57600\n",
      "60000\n",
      "62400\n",
      "64800\n",
      "67200\n",
      "69600\n",
      "72000\n",
      "74400\n",
      "76800\n",
      "79200\n",
      "81600\n",
      "84000\n",
      "86400\n",
      "88800\n",
      "91200\n",
      "93600\n",
      "96000\n",
      "98400\n",
      "100800\n",
      "103200\n",
      "105600\n",
      "108000\n",
      "110400\n",
      "112800\n",
      "115200\n",
      "117600\n",
      "120000\n",
      "122400\n",
      "124800\n",
      "127200\n",
      "129600\n",
      "132000\n",
      "134400\n",
      "136800\n",
      "139200\n",
      "141600\n",
      "144000\n",
      "146400\n",
      "148800\n",
      "151200\n",
      "153600\n",
      "156000\n",
      "158400\n",
      "160800\n",
      "163200\n",
      "165600\n",
      "168000\n",
      "170400\n",
      "172800\n",
      "175200\n",
      "177600\n",
      "180000\n",
      "182400\n",
      "184800\n",
      "187200\n",
      "189600\n",
      "192000\n",
      "194400\n",
      "196800\n",
      "199200\n",
      "201600\n",
      "204000\n",
      "206400\n",
      "208800\n",
      "211200\n",
      "213600\n",
      "216000\n",
      "218400\n",
      "220800\n",
      "223200\n"
     ]
    }
   ],
   "source": [
    "for inputs, labels in data_loader:\n",
    "    inputs = inputs.to(device)\n",
    "    # Forward\n",
    "    i+=24\n",
    "    if i % 2400 ==0:\n",
    "        print(i)\n",
    "    outputs = alexnet.forward(inputs)\n",
    "    predictions = np.hstack([predictions, outputs.cpu().detach().numpy().argmax(axis=-1)])"
   ]
  },
  {
   "cell_type": "code",
   "execution_count": 73,
   "metadata": {
    "ExecuteTime": {
     "end_time": "2019-04-15T18:56:25.844302Z",
     "start_time": "2019-04-15T18:56:25.838286Z"
    }
   },
   "outputs": [
    {
     "data": {
      "text/plain": [
       "(300000,)"
      ]
     },
     "execution_count": 73,
     "metadata": {},
     "output_type": "execute_result"
    }
   ],
   "source": [
    "predictions.shape"
   ]
  },
  {
   "cell_type": "code",
   "execution_count": 74,
   "metadata": {
    "ExecuteTime": {
     "end_time": "2019-04-15T18:56:27.353667Z",
     "start_time": "2019-04-15T18:56:27.346686Z"
    }
   },
   "outputs": [],
   "source": [
    "df = pd.DataFrame({\"id\":range(1,300001), \"preds\":predictions})"
   ]
  },
  {
   "cell_type": "code",
   "execution_count": 75,
   "metadata": {
    "ExecuteTime": {
     "end_time": "2019-04-15T18:56:28.352579Z",
     "start_time": "2019-04-15T18:56:28.267810Z"
    }
   },
   "outputs": [],
   "source": [
    "df['label'] = df['preds'].apply(lambda x: classes[int(x)])"
   ]
  },
  {
   "cell_type": "code",
   "execution_count": 76,
   "metadata": {
    "ExecuteTime": {
     "end_time": "2019-04-15T18:56:29.011897Z",
     "start_time": "2019-04-15T18:56:29.003918Z"
    }
   },
   "outputs": [],
   "source": [
    "df = df.set_index(\"id\")"
   ]
  },
  {
   "cell_type": "code",
   "execution_count": 77,
   "metadata": {
    "ExecuteTime": {
     "end_time": "2019-04-15T18:56:29.808765Z",
     "start_time": "2019-04-15T18:56:29.220344Z"
    }
   },
   "outputs": [],
   "source": [
    "df[['label']].to_csv(\"kaggle_preds.csv\")"
   ]
  },
  {
   "cell_type": "code",
   "execution_count": 84,
   "metadata": {
    "ExecuteTime": {
     "end_time": "2019-04-15T19:00:43.227542Z",
     "start_time": "2019-04-15T19:00:43.221565Z"
    }
   },
   "outputs": [
    {
     "data": {
      "text/plain": [
       "array([3, 6, 3, 1, 4, 6, 0, 3, 4, 3, 3, 8, 0, 5, 7, 6, 2, 3, 5, 7, 3, 0,\n",
       "       1, 6, 5, 6, 3, 6, 1, 3, 3, 5], dtype=int64)"
      ]
     },
     "execution_count": 84,
     "metadata": {},
     "output_type": "execute_result"
    }
   ],
   "source": [
    "outputs.cpu().detach().numpy().argmax(axis=-1)"
   ]
  },
  {
   "cell_type": "code",
   "execution_count": 78,
   "metadata": {
    "ExecuteTime": {
     "end_time": "2019-04-15T18:57:47.561895Z",
     "start_time": "2019-04-15T18:57:47.546937Z"
    }
   },
   "outputs": [
    {
     "data": {
      "text/html": [
       "<div>\n",
       "<style scoped>\n",
       "    .dataframe tbody tr th:only-of-type {\n",
       "        vertical-align: middle;\n",
       "    }\n",
       "\n",
       "    .dataframe tbody tr th {\n",
       "        vertical-align: top;\n",
       "    }\n",
       "\n",
       "    .dataframe thead th {\n",
       "        text-align: right;\n",
       "    }\n",
       "</style>\n",
       "<table border=\"1\" class=\"dataframe\">\n",
       "  <thead>\n",
       "    <tr style=\"text-align: right;\">\n",
       "      <th></th>\n",
       "      <th>preds</th>\n",
       "      <th>label</th>\n",
       "    </tr>\n",
       "    <tr>\n",
       "      <th>id</th>\n",
       "      <th></th>\n",
       "      <th></th>\n",
       "    </tr>\n",
       "  </thead>\n",
       "  <tbody>\n",
       "    <tr>\n",
       "      <th>1</th>\n",
       "      <td>4.0</td>\n",
       "      <td>deer</td>\n",
       "    </tr>\n",
       "    <tr>\n",
       "      <th>2</th>\n",
       "      <td>3.0</td>\n",
       "      <td>cat</td>\n",
       "    </tr>\n",
       "    <tr>\n",
       "      <th>3</th>\n",
       "      <td>2.0</td>\n",
       "      <td>bird</td>\n",
       "    </tr>\n",
       "    <tr>\n",
       "      <th>4</th>\n",
       "      <td>7.0</td>\n",
       "      <td>horse</td>\n",
       "    </tr>\n",
       "    <tr>\n",
       "      <th>5</th>\n",
       "      <td>4.0</td>\n",
       "      <td>deer</td>\n",
       "    </tr>\n",
       "    <tr>\n",
       "      <th>6</th>\n",
       "      <td>4.0</td>\n",
       "      <td>deer</td>\n",
       "    </tr>\n",
       "    <tr>\n",
       "      <th>7</th>\n",
       "      <td>4.0</td>\n",
       "      <td>deer</td>\n",
       "    </tr>\n",
       "    <tr>\n",
       "      <th>8</th>\n",
       "      <td>0.0</td>\n",
       "      <td>airplane</td>\n",
       "    </tr>\n",
       "    <tr>\n",
       "      <th>9</th>\n",
       "      <td>4.0</td>\n",
       "      <td>deer</td>\n",
       "    </tr>\n",
       "    <tr>\n",
       "      <th>10</th>\n",
       "      <td>1.0</td>\n",
       "      <td>automobile</td>\n",
       "    </tr>\n",
       "    <tr>\n",
       "      <th>11</th>\n",
       "      <td>6.0</td>\n",
       "      <td>frog</td>\n",
       "    </tr>\n",
       "    <tr>\n",
       "      <th>12</th>\n",
       "      <td>1.0</td>\n",
       "      <td>automobile</td>\n",
       "    </tr>\n",
       "    <tr>\n",
       "      <th>13</th>\n",
       "      <td>6.0</td>\n",
       "      <td>frog</td>\n",
       "    </tr>\n",
       "    <tr>\n",
       "      <th>14</th>\n",
       "      <td>8.0</td>\n",
       "      <td>ship</td>\n",
       "    </tr>\n",
       "    <tr>\n",
       "      <th>15</th>\n",
       "      <td>9.0</td>\n",
       "      <td>truck</td>\n",
       "    </tr>\n",
       "    <tr>\n",
       "      <th>16</th>\n",
       "      <td>3.0</td>\n",
       "      <td>cat</td>\n",
       "    </tr>\n",
       "    <tr>\n",
       "      <th>17</th>\n",
       "      <td>7.0</td>\n",
       "      <td>horse</td>\n",
       "    </tr>\n",
       "    <tr>\n",
       "      <th>18</th>\n",
       "      <td>5.0</td>\n",
       "      <td>dog</td>\n",
       "    </tr>\n",
       "    <tr>\n",
       "      <th>19</th>\n",
       "      <td>7.0</td>\n",
       "      <td>horse</td>\n",
       "    </tr>\n",
       "    <tr>\n",
       "      <th>20</th>\n",
       "      <td>0.0</td>\n",
       "      <td>airplane</td>\n",
       "    </tr>\n",
       "    <tr>\n",
       "      <th>21</th>\n",
       "      <td>3.0</td>\n",
       "      <td>cat</td>\n",
       "    </tr>\n",
       "    <tr>\n",
       "      <th>22</th>\n",
       "      <td>3.0</td>\n",
       "      <td>cat</td>\n",
       "    </tr>\n",
       "    <tr>\n",
       "      <th>23</th>\n",
       "      <td>4.0</td>\n",
       "      <td>deer</td>\n",
       "    </tr>\n",
       "    <tr>\n",
       "      <th>24</th>\n",
       "      <td>1.0</td>\n",
       "      <td>automobile</td>\n",
       "    </tr>\n",
       "    <tr>\n",
       "      <th>25</th>\n",
       "      <td>9.0</td>\n",
       "      <td>truck</td>\n",
       "    </tr>\n",
       "    <tr>\n",
       "      <th>26</th>\n",
       "      <td>3.0</td>\n",
       "      <td>cat</td>\n",
       "    </tr>\n",
       "    <tr>\n",
       "      <th>27</th>\n",
       "      <td>0.0</td>\n",
       "      <td>airplane</td>\n",
       "    </tr>\n",
       "    <tr>\n",
       "      <th>28</th>\n",
       "      <td>3.0</td>\n",
       "      <td>cat</td>\n",
       "    </tr>\n",
       "    <tr>\n",
       "      <th>29</th>\n",
       "      <td>3.0</td>\n",
       "      <td>cat</td>\n",
       "    </tr>\n",
       "    <tr>\n",
       "      <th>30</th>\n",
       "      <td>8.0</td>\n",
       "      <td>ship</td>\n",
       "    </tr>\n",
       "    <tr>\n",
       "      <th>...</th>\n",
       "      <td>...</td>\n",
       "      <td>...</td>\n",
       "    </tr>\n",
       "    <tr>\n",
       "      <th>299971</th>\n",
       "      <td>3.0</td>\n",
       "      <td>cat</td>\n",
       "    </tr>\n",
       "    <tr>\n",
       "      <th>299972</th>\n",
       "      <td>1.0</td>\n",
       "      <td>automobile</td>\n",
       "    </tr>\n",
       "    <tr>\n",
       "      <th>299973</th>\n",
       "      <td>4.0</td>\n",
       "      <td>deer</td>\n",
       "    </tr>\n",
       "    <tr>\n",
       "      <th>299974</th>\n",
       "      <td>6.0</td>\n",
       "      <td>frog</td>\n",
       "    </tr>\n",
       "    <tr>\n",
       "      <th>299975</th>\n",
       "      <td>0.0</td>\n",
       "      <td>airplane</td>\n",
       "    </tr>\n",
       "    <tr>\n",
       "      <th>299976</th>\n",
       "      <td>3.0</td>\n",
       "      <td>cat</td>\n",
       "    </tr>\n",
       "    <tr>\n",
       "      <th>299977</th>\n",
       "      <td>4.0</td>\n",
       "      <td>deer</td>\n",
       "    </tr>\n",
       "    <tr>\n",
       "      <th>299978</th>\n",
       "      <td>3.0</td>\n",
       "      <td>cat</td>\n",
       "    </tr>\n",
       "    <tr>\n",
       "      <th>299979</th>\n",
       "      <td>3.0</td>\n",
       "      <td>cat</td>\n",
       "    </tr>\n",
       "    <tr>\n",
       "      <th>299980</th>\n",
       "      <td>8.0</td>\n",
       "      <td>ship</td>\n",
       "    </tr>\n",
       "    <tr>\n",
       "      <th>299981</th>\n",
       "      <td>0.0</td>\n",
       "      <td>airplane</td>\n",
       "    </tr>\n",
       "    <tr>\n",
       "      <th>299982</th>\n",
       "      <td>5.0</td>\n",
       "      <td>dog</td>\n",
       "    </tr>\n",
       "    <tr>\n",
       "      <th>299983</th>\n",
       "      <td>7.0</td>\n",
       "      <td>horse</td>\n",
       "    </tr>\n",
       "    <tr>\n",
       "      <th>299984</th>\n",
       "      <td>6.0</td>\n",
       "      <td>frog</td>\n",
       "    </tr>\n",
       "    <tr>\n",
       "      <th>299985</th>\n",
       "      <td>2.0</td>\n",
       "      <td>bird</td>\n",
       "    </tr>\n",
       "    <tr>\n",
       "      <th>299986</th>\n",
       "      <td>3.0</td>\n",
       "      <td>cat</td>\n",
       "    </tr>\n",
       "    <tr>\n",
       "      <th>299987</th>\n",
       "      <td>5.0</td>\n",
       "      <td>dog</td>\n",
       "    </tr>\n",
       "    <tr>\n",
       "      <th>299988</th>\n",
       "      <td>7.0</td>\n",
       "      <td>horse</td>\n",
       "    </tr>\n",
       "    <tr>\n",
       "      <th>299989</th>\n",
       "      <td>3.0</td>\n",
       "      <td>cat</td>\n",
       "    </tr>\n",
       "    <tr>\n",
       "      <th>299990</th>\n",
       "      <td>0.0</td>\n",
       "      <td>airplane</td>\n",
       "    </tr>\n",
       "    <tr>\n",
       "      <th>299991</th>\n",
       "      <td>1.0</td>\n",
       "      <td>automobile</td>\n",
       "    </tr>\n",
       "    <tr>\n",
       "      <th>299992</th>\n",
       "      <td>6.0</td>\n",
       "      <td>frog</td>\n",
       "    </tr>\n",
       "    <tr>\n",
       "      <th>299993</th>\n",
       "      <td>5.0</td>\n",
       "      <td>dog</td>\n",
       "    </tr>\n",
       "    <tr>\n",
       "      <th>299994</th>\n",
       "      <td>6.0</td>\n",
       "      <td>frog</td>\n",
       "    </tr>\n",
       "    <tr>\n",
       "      <th>299995</th>\n",
       "      <td>3.0</td>\n",
       "      <td>cat</td>\n",
       "    </tr>\n",
       "    <tr>\n",
       "      <th>299996</th>\n",
       "      <td>6.0</td>\n",
       "      <td>frog</td>\n",
       "    </tr>\n",
       "    <tr>\n",
       "      <th>299997</th>\n",
       "      <td>1.0</td>\n",
       "      <td>automobile</td>\n",
       "    </tr>\n",
       "    <tr>\n",
       "      <th>299998</th>\n",
       "      <td>3.0</td>\n",
       "      <td>cat</td>\n",
       "    </tr>\n",
       "    <tr>\n",
       "      <th>299999</th>\n",
       "      <td>3.0</td>\n",
       "      <td>cat</td>\n",
       "    </tr>\n",
       "    <tr>\n",
       "      <th>300000</th>\n",
       "      <td>5.0</td>\n",
       "      <td>dog</td>\n",
       "    </tr>\n",
       "  </tbody>\n",
       "</table>\n",
       "<p>300000 rows × 2 columns</p>\n",
       "</div>"
      ],
      "text/plain": [
       "        preds       label\n",
       "id                       \n",
       "1         4.0        deer\n",
       "2         3.0         cat\n",
       "3         2.0        bird\n",
       "4         7.0       horse\n",
       "5         4.0        deer\n",
       "6         4.0        deer\n",
       "7         4.0        deer\n",
       "8         0.0    airplane\n",
       "9         4.0        deer\n",
       "10        1.0  automobile\n",
       "11        6.0        frog\n",
       "12        1.0  automobile\n",
       "13        6.0        frog\n",
       "14        8.0        ship\n",
       "15        9.0       truck\n",
       "16        3.0         cat\n",
       "17        7.0       horse\n",
       "18        5.0         dog\n",
       "19        7.0       horse\n",
       "20        0.0    airplane\n",
       "21        3.0         cat\n",
       "22        3.0         cat\n",
       "23        4.0        deer\n",
       "24        1.0  automobile\n",
       "25        9.0       truck\n",
       "26        3.0         cat\n",
       "27        0.0    airplane\n",
       "28        3.0         cat\n",
       "29        3.0         cat\n",
       "30        8.0        ship\n",
       "...       ...         ...\n",
       "299971    3.0         cat\n",
       "299972    1.0  automobile\n",
       "299973    4.0        deer\n",
       "299974    6.0        frog\n",
       "299975    0.0    airplane\n",
       "299976    3.0         cat\n",
       "299977    4.0        deer\n",
       "299978    3.0         cat\n",
       "299979    3.0         cat\n",
       "299980    8.0        ship\n",
       "299981    0.0    airplane\n",
       "299982    5.0         dog\n",
       "299983    7.0       horse\n",
       "299984    6.0        frog\n",
       "299985    2.0        bird\n",
       "299986    3.0         cat\n",
       "299987    5.0         dog\n",
       "299988    7.0       horse\n",
       "299989    3.0         cat\n",
       "299990    0.0    airplane\n",
       "299991    1.0  automobile\n",
       "299992    6.0        frog\n",
       "299993    5.0         dog\n",
       "299994    6.0        frog\n",
       "299995    3.0         cat\n",
       "299996    6.0        frog\n",
       "299997    1.0  automobile\n",
       "299998    3.0         cat\n",
       "299999    3.0         cat\n",
       "300000    5.0         dog\n",
       "\n",
       "[300000 rows x 2 columns]"
      ]
     },
     "execution_count": 78,
     "metadata": {},
     "output_type": "execute_result"
    }
   ],
   "source": [
    "df"
   ]
  },
  {
   "cell_type": "code",
   "execution_count": null,
   "metadata": {},
   "outputs": [],
   "source": []
  }
 ],
 "metadata": {
  "kernelspec": {
   "display_name": "Python 3",
   "language": "python",
   "name": "python3"
  },
  "language_info": {
   "codemirror_mode": {
    "name": "ipython",
    "version": 3
   },
   "file_extension": ".py",
   "mimetype": "text/x-python",
   "name": "python",
   "nbconvert_exporter": "python",
   "pygments_lexer": "ipython3",
   "version": "3.7.3"
  },
  "toc": {
   "base_numbering": 1,
   "nav_menu": {},
   "number_sections": true,
   "sideBar": true,
   "skip_h1_title": false,
   "title_cell": "Table of Contents",
   "title_sidebar": "Contents",
   "toc_cell": false,
   "toc_position": {},
   "toc_section_display": true,
   "toc_window_display": true
  }
 },
 "nbformat": 4,
 "nbformat_minor": 2
}
